{
 "cells": [
  {
   "cell_type": "markdown",
   "metadata": {},
   "source": [
    "Final EDA Project\n",
    "Author: Saurabh Biswas\n",
    "Class: DSC530-T302"
   ]
  },
  {
   "cell_type": "markdown",
   "metadata": {},
   "source": [
    "I have decided to perform Exploratory Data Analysis on Cervical Cancer Risk Classification. I'm interted to find out what are all the factors that increases the risk of cervical cancer. I used Cervical Cancer Risk Classification dataset from kaggle to carry out EDA. "
   ]
  },
  {
   "cell_type": "markdown",
   "metadata": {},
   "source": [
    "Link of my dataset:\n",
    "https://www.kaggle.com/loveall/cervical-cancer-risk-classification"
   ]
  },
  {
   "cell_type": "code",
   "execution_count": 459,
   "metadata": {},
   "outputs": [],
   "source": [
    "from __future__ import print_function, division\n",
    "\n",
    "%matplotlib inline\n",
    "\n",
    "import pandas as pd\n",
    "import numpy as np\n",
    "import thinkplot\n",
    "import thinkstats2\n",
    "import seaborn as sb"
   ]
  },
  {
   "cell_type": "code",
   "execution_count": 342,
   "metadata": {},
   "outputs": [
    {
     "data": {
      "text/html": [
       "<div>\n",
       "<style scoped>\n",
       "    .dataframe tbody tr th:only-of-type {\n",
       "        vertical-align: middle;\n",
       "    }\n",
       "\n",
       "    .dataframe tbody tr th {\n",
       "        vertical-align: top;\n",
       "    }\n",
       "\n",
       "    .dataframe thead th {\n",
       "        text-align: right;\n",
       "    }\n",
       "</style>\n",
       "<table border=\"1\" class=\"dataframe\">\n",
       "  <thead>\n",
       "    <tr style=\"text-align: right;\">\n",
       "      <th></th>\n",
       "      <th>Age</th>\n",
       "      <th>Number of sexual partners</th>\n",
       "      <th>First sexual intercourse</th>\n",
       "      <th>Num of pregnancies</th>\n",
       "      <th>Smokes</th>\n",
       "      <th>Smokes (years)</th>\n",
       "      <th>Smokes (packs/year)</th>\n",
       "      <th>Hormonal Contraceptives</th>\n",
       "      <th>Hormonal Contraceptives (years)</th>\n",
       "      <th>IUD</th>\n",
       "      <th>...</th>\n",
       "      <th>STDs: Time since first diagnosis</th>\n",
       "      <th>STDs: Time since last diagnosis</th>\n",
       "      <th>Dx:Cancer</th>\n",
       "      <th>Dx:CIN</th>\n",
       "      <th>Dx:HPV</th>\n",
       "      <th>Dx</th>\n",
       "      <th>Hinselmann</th>\n",
       "      <th>Schiller</th>\n",
       "      <th>Citology</th>\n",
       "      <th>Biopsy</th>\n",
       "    </tr>\n",
       "  </thead>\n",
       "  <tbody>\n",
       "    <tr>\n",
       "      <td>0</td>\n",
       "      <td>18</td>\n",
       "      <td>4.0</td>\n",
       "      <td>15.0</td>\n",
       "      <td>1.0</td>\n",
       "      <td>0.0</td>\n",
       "      <td>0.0</td>\n",
       "      <td>0.0</td>\n",
       "      <td>0.0</td>\n",
       "      <td>0.0</td>\n",
       "      <td>0.0</td>\n",
       "      <td>...</td>\n",
       "      <td>?</td>\n",
       "      <td>?</td>\n",
       "      <td>0</td>\n",
       "      <td>0</td>\n",
       "      <td>0</td>\n",
       "      <td>0</td>\n",
       "      <td>0</td>\n",
       "      <td>0</td>\n",
       "      <td>0</td>\n",
       "      <td>0</td>\n",
       "    </tr>\n",
       "    <tr>\n",
       "      <td>1</td>\n",
       "      <td>15</td>\n",
       "      <td>1.0</td>\n",
       "      <td>14.0</td>\n",
       "      <td>1.0</td>\n",
       "      <td>0.0</td>\n",
       "      <td>0.0</td>\n",
       "      <td>0.0</td>\n",
       "      <td>0.0</td>\n",
       "      <td>0.0</td>\n",
       "      <td>0.0</td>\n",
       "      <td>...</td>\n",
       "      <td>?</td>\n",
       "      <td>?</td>\n",
       "      <td>0</td>\n",
       "      <td>0</td>\n",
       "      <td>0</td>\n",
       "      <td>0</td>\n",
       "      <td>0</td>\n",
       "      <td>0</td>\n",
       "      <td>0</td>\n",
       "      <td>0</td>\n",
       "    </tr>\n",
       "    <tr>\n",
       "      <td>2</td>\n",
       "      <td>34</td>\n",
       "      <td>1.0</td>\n",
       "      <td>?</td>\n",
       "      <td>1.0</td>\n",
       "      <td>0.0</td>\n",
       "      <td>0.0</td>\n",
       "      <td>0.0</td>\n",
       "      <td>0.0</td>\n",
       "      <td>0.0</td>\n",
       "      <td>0.0</td>\n",
       "      <td>...</td>\n",
       "      <td>?</td>\n",
       "      <td>?</td>\n",
       "      <td>0</td>\n",
       "      <td>0</td>\n",
       "      <td>0</td>\n",
       "      <td>0</td>\n",
       "      <td>0</td>\n",
       "      <td>0</td>\n",
       "      <td>0</td>\n",
       "      <td>0</td>\n",
       "    </tr>\n",
       "    <tr>\n",
       "      <td>3</td>\n",
       "      <td>52</td>\n",
       "      <td>5.0</td>\n",
       "      <td>16.0</td>\n",
       "      <td>4.0</td>\n",
       "      <td>1.0</td>\n",
       "      <td>37.0</td>\n",
       "      <td>37.0</td>\n",
       "      <td>1.0</td>\n",
       "      <td>3.0</td>\n",
       "      <td>0.0</td>\n",
       "      <td>...</td>\n",
       "      <td>?</td>\n",
       "      <td>?</td>\n",
       "      <td>1</td>\n",
       "      <td>0</td>\n",
       "      <td>1</td>\n",
       "      <td>0</td>\n",
       "      <td>0</td>\n",
       "      <td>0</td>\n",
       "      <td>0</td>\n",
       "      <td>0</td>\n",
       "    </tr>\n",
       "    <tr>\n",
       "      <td>4</td>\n",
       "      <td>46</td>\n",
       "      <td>3.0</td>\n",
       "      <td>21.0</td>\n",
       "      <td>4.0</td>\n",
       "      <td>0.0</td>\n",
       "      <td>0.0</td>\n",
       "      <td>0.0</td>\n",
       "      <td>1.0</td>\n",
       "      <td>15.0</td>\n",
       "      <td>0.0</td>\n",
       "      <td>...</td>\n",
       "      <td>?</td>\n",
       "      <td>?</td>\n",
       "      <td>0</td>\n",
       "      <td>0</td>\n",
       "      <td>0</td>\n",
       "      <td>0</td>\n",
       "      <td>0</td>\n",
       "      <td>0</td>\n",
       "      <td>0</td>\n",
       "      <td>0</td>\n",
       "    </tr>\n",
       "  </tbody>\n",
       "</table>\n",
       "<p>5 rows × 36 columns</p>\n",
       "</div>"
      ],
      "text/plain": [
       "   Age Number of sexual partners First sexual intercourse Num of pregnancies  \\\n",
       "0   18                       4.0                     15.0                1.0   \n",
       "1   15                       1.0                     14.0                1.0   \n",
       "2   34                       1.0                        ?                1.0   \n",
       "3   52                       5.0                     16.0                4.0   \n",
       "4   46                       3.0                     21.0                4.0   \n",
       "\n",
       "  Smokes Smokes (years) Smokes (packs/year) Hormonal Contraceptives  \\\n",
       "0    0.0            0.0                 0.0                     0.0   \n",
       "1    0.0            0.0                 0.0                     0.0   \n",
       "2    0.0            0.0                 0.0                     0.0   \n",
       "3    1.0           37.0                37.0                     1.0   \n",
       "4    0.0            0.0                 0.0                     1.0   \n",
       "\n",
       "  Hormonal Contraceptives (years)  IUD  ... STDs: Time since first diagnosis  \\\n",
       "0                             0.0  0.0  ...                                ?   \n",
       "1                             0.0  0.0  ...                                ?   \n",
       "2                             0.0  0.0  ...                                ?   \n",
       "3                             3.0  0.0  ...                                ?   \n",
       "4                            15.0  0.0  ...                                ?   \n",
       "\n",
       "  STDs: Time since last diagnosis Dx:Cancer Dx:CIN Dx:HPV Dx Hinselmann  \\\n",
       "0                               ?         0      0      0  0          0   \n",
       "1                               ?         0      0      0  0          0   \n",
       "2                               ?         0      0      0  0          0   \n",
       "3                               ?         1      0      1  0          0   \n",
       "4                               ?         0      0      0  0          0   \n",
       "\n",
       "  Schiller Citology Biopsy  \n",
       "0        0        0      0  \n",
       "1        0        0      0  \n",
       "2        0        0      0  \n",
       "3        0        0      0  \n",
       "4        0        0      0  \n",
       "\n",
       "[5 rows x 36 columns]"
      ]
     },
     "execution_count": 342,
     "metadata": {},
     "output_type": "execute_result"
    }
   ],
   "source": [
    "file_path = \"/Users/saurabhbiswas/Desktop/Jupyter/ThinkStats2-master/code/kag_risk_factors_cervical_cancer.csv\"\n",
    "df_cancer = pd.read_csv(file_path) # read the data into a dataframe\n",
    "df_cancer.head() # take a glimplse of the data"
   ]
  },
  {
   "cell_type": "code",
   "execution_count": 343,
   "metadata": {},
   "outputs": [
    {
     "data": {
      "text/plain": [
       "Index(['Age', 'Number of sexual partners', 'First sexual intercourse',\n",
       "       'Num of pregnancies', 'Smokes', 'Smokes (years)', 'Smokes (packs/year)',\n",
       "       'Hormonal Contraceptives', 'Hormonal Contraceptives (years)', 'IUD',\n",
       "       'IUD (years)', 'STDs', 'STDs (number)', 'STDs:condylomatosis',\n",
       "       'STDs:cervical condylomatosis', 'STDs:vaginal condylomatosis',\n",
       "       'STDs:vulvo-perineal condylomatosis', 'STDs:syphilis',\n",
       "       'STDs:pelvic inflammatory disease', 'STDs:genital herpes',\n",
       "       'STDs:molluscum contagiosum', 'STDs:AIDS', 'STDs:HIV',\n",
       "       'STDs:Hepatitis B', 'STDs:HPV', 'STDs: Number of diagnosis',\n",
       "       'STDs: Time since first diagnosis', 'STDs: Time since last diagnosis',\n",
       "       'Dx:Cancer', 'Dx:CIN', 'Dx:HPV', 'Dx', 'Hinselmann', 'Schiller',\n",
       "       'Citology', 'Biopsy'],\n",
       "      dtype='object')"
      ]
     },
     "execution_count": 343,
     "metadata": {},
     "output_type": "execute_result"
    }
   ],
   "source": [
    "df_cancer.columns #get the column names"
   ]
  },
  {
   "cell_type": "code",
   "execution_count": 344,
   "metadata": {},
   "outputs": [],
   "source": [
    "df_cancer.drop(['Smokes (years)', 'Smokes (packs/year)','Hormonal Contraceptives (years)',\n",
    "           'IUD (years)', 'STDs', 'STDs (number)', 'STDs:condylomatosis',\n",
    "           'STDs:cervical condylomatosis', 'STDs:vaginal condylomatosis',\n",
    "           'STDs:vulvo-perineal condylomatosis', 'STDs:syphilis',\n",
    "           'STDs:pelvic inflammatory disease', 'STDs:genital herpes',\n",
    "           'STDs:molluscum contagiosum', 'STDs:AIDS', 'STDs:HIV','STDs:Hepatitis B',\n",
    "           'STDs: Number of diagnosis','STDs: Time since first diagnosis', \n",
    "           'STDs: Time since last diagnosis','Dx:Cancer', 'Dx:CIN', 'Dx:HPV', 'Dx', \n",
    "           'Hinselmann', 'Schiller','Citology'],axis=1,inplace=True) # remove less important columns\n"
   ]
  },
  {
   "cell_type": "code",
   "execution_count": 345,
   "metadata": {},
   "outputs": [
    {
     "data": {
      "text/html": [
       "<div>\n",
       "<style scoped>\n",
       "    .dataframe tbody tr th:only-of-type {\n",
       "        vertical-align: middle;\n",
       "    }\n",
       "\n",
       "    .dataframe tbody tr th {\n",
       "        vertical-align: top;\n",
       "    }\n",
       "\n",
       "    .dataframe thead th {\n",
       "        text-align: right;\n",
       "    }\n",
       "</style>\n",
       "<table border=\"1\" class=\"dataframe\">\n",
       "  <thead>\n",
       "    <tr style=\"text-align: right;\">\n",
       "      <th></th>\n",
       "      <th>Age</th>\n",
       "      <th>Number of sexual partners</th>\n",
       "      <th>First sexual intercourse</th>\n",
       "      <th>Num of pregnancies</th>\n",
       "      <th>Smokes</th>\n",
       "      <th>Hormonal Contraceptives</th>\n",
       "      <th>IUD</th>\n",
       "      <th>STDs:HPV</th>\n",
       "      <th>Biopsy</th>\n",
       "    </tr>\n",
       "  </thead>\n",
       "  <tbody>\n",
       "    <tr>\n",
       "      <td>0</td>\n",
       "      <td>18</td>\n",
       "      <td>4.0</td>\n",
       "      <td>15.0</td>\n",
       "      <td>1.0</td>\n",
       "      <td>0.0</td>\n",
       "      <td>0.0</td>\n",
       "      <td>0.0</td>\n",
       "      <td>0.0</td>\n",
       "      <td>0</td>\n",
       "    </tr>\n",
       "    <tr>\n",
       "      <td>1</td>\n",
       "      <td>15</td>\n",
       "      <td>1.0</td>\n",
       "      <td>14.0</td>\n",
       "      <td>1.0</td>\n",
       "      <td>0.0</td>\n",
       "      <td>0.0</td>\n",
       "      <td>0.0</td>\n",
       "      <td>0.0</td>\n",
       "      <td>0</td>\n",
       "    </tr>\n",
       "    <tr>\n",
       "      <td>2</td>\n",
       "      <td>34</td>\n",
       "      <td>1.0</td>\n",
       "      <td>?</td>\n",
       "      <td>1.0</td>\n",
       "      <td>0.0</td>\n",
       "      <td>0.0</td>\n",
       "      <td>0.0</td>\n",
       "      <td>0.0</td>\n",
       "      <td>0</td>\n",
       "    </tr>\n",
       "    <tr>\n",
       "      <td>3</td>\n",
       "      <td>52</td>\n",
       "      <td>5.0</td>\n",
       "      <td>16.0</td>\n",
       "      <td>4.0</td>\n",
       "      <td>1.0</td>\n",
       "      <td>1.0</td>\n",
       "      <td>0.0</td>\n",
       "      <td>0.0</td>\n",
       "      <td>0</td>\n",
       "    </tr>\n",
       "    <tr>\n",
       "      <td>4</td>\n",
       "      <td>46</td>\n",
       "      <td>3.0</td>\n",
       "      <td>21.0</td>\n",
       "      <td>4.0</td>\n",
       "      <td>0.0</td>\n",
       "      <td>1.0</td>\n",
       "      <td>0.0</td>\n",
       "      <td>0.0</td>\n",
       "      <td>0</td>\n",
       "    </tr>\n",
       "  </tbody>\n",
       "</table>\n",
       "</div>"
      ],
      "text/plain": [
       "   Age Number of sexual partners First sexual intercourse Num of pregnancies  \\\n",
       "0   18                       4.0                     15.0                1.0   \n",
       "1   15                       1.0                     14.0                1.0   \n",
       "2   34                       1.0                        ?                1.0   \n",
       "3   52                       5.0                     16.0                4.0   \n",
       "4   46                       3.0                     21.0                4.0   \n",
       "\n",
       "  Smokes Hormonal Contraceptives  IUD STDs:HPV  Biopsy  \n",
       "0    0.0                     0.0  0.0      0.0       0  \n",
       "1    0.0                     0.0  0.0      0.0       0  \n",
       "2    0.0                     0.0  0.0      0.0       0  \n",
       "3    1.0                     1.0  0.0      0.0       0  \n",
       "4    0.0                     1.0  0.0      0.0       0  "
      ]
     },
     "execution_count": 345,
     "metadata": {},
     "output_type": "execute_result"
    }
   ],
   "source": [
    "df_cancer.head() #get a glimpse of data afetr dropping unnecessary columns"
   ]
  },
  {
   "cell_type": "markdown",
   "metadata": {},
   "source": [
    "We are going to perform EDA analysis using the above variables - Biopsy is the dependent variable and all others\n",
    "are exploratory variable.\n",
    "\n",
    "Age: This is the age of the each woman. This columns will give us an idea whether cervical cancer is common in a \n",
    "particular age group or not.\n",
    "     \n",
    "Number of sexual partners: This is the number of sexual partners for each individuals. Is there any role of multiple  sexual partner in cervical cancer?\n",
    "\n",
    "First sexual intercourse: At what age an individual had her first Intercourse. Any impact on early intercourse on      cervical cancer?\n",
    "\n",
    "Num of pregnancies: This the data for number of pregnancies each woman had till date. \n",
    "\n",
    "Somkes: This tells us whether the woman is smoker or not. Value 1 means the woman is a somker. I'm tryig to find\n",
    "out whether somking has any effect on cervical cancer.\n",
    "\n",
    "Hormonal Contraceptives: This data tells us who uses contraceptive pills. Value 1 mean the woman uses contraceptives.\n",
    "I'm interested to find out the effect of contraceptives on cerivacal cancer.\n",
    "\n",
    "IUD: Birth control device. Can prevent STDs. We will see whether IUD users have less or more chances of gettig\n",
    "cervical cancer.\n",
    "\n",
    "STDs:HPV: It's a kind of sexually transmitted disease caused by papillomavirus. We will see what is the relation between HPV and cervical cancer.\n",
    "\n",
    "Biopsy: This is one of the test that confirms confirms cervical cancers. This is our target variable in our Exploratory Data Analysis.\n",
    "                         "
   ]
  },
  {
   "cell_type": "code",
   "execution_count": 346,
   "metadata": {},
   "outputs": [
    {
     "name": "stdout",
     "output_type": "stream",
     "text": [
      "<class 'pandas.core.frame.DataFrame'>\n",
      "RangeIndex: 858 entries, 0 to 857\n",
      "Data columns (total 9 columns):\n",
      "Age                          858 non-null int64\n",
      "Number of sexual partners    832 non-null object\n",
      "First sexual intercourse     851 non-null object\n",
      "Num of pregnancies           802 non-null object\n",
      "Smokes                       845 non-null object\n",
      "Hormonal Contraceptives      750 non-null object\n",
      "IUD                          741 non-null object\n",
      "STDs:HPV                     753 non-null object\n",
      "Biopsy                       858 non-null int64\n",
      "dtypes: int64(2), object(7)\n",
      "memory usage: 60.5+ KB\n"
     ]
    }
   ],
   "source": [
    "# Cleaning the dataset\n",
    "df_cancer = df_cancer.replace('?', np.nan) #replacing '?'' with NaN.\n",
    "df_cancer.info() # get the info on null data"
   ]
  },
  {
   "cell_type": "code",
   "execution_count": 347,
   "metadata": {},
   "outputs": [],
   "source": [
    "# change data types\n",
    "df_cancer['Number of sexual partners']=df_cancer['Number of sexual partners'].astype(float)\n",
    "df_cancer['First sexual intercourse']=df_cancer['First sexual intercourse'].astype(float)\n",
    "df_cancer['Num of pregnancies']=df_cancer['Num of pregnancies'].astype(float)\n",
    "df_cancer['Smokes']=df_cancer['Smokes'].astype(float)\n",
    "df_cancer['Hormonal Contraceptives']=df_cancer['Hormonal Contraceptives'].astype(float)\n",
    "df_cancer['IUD']=df_cancer['IUD'].astype(float)\n",
    "df_cancer['STDs:HPV']=df_cancer['STDs:HPV'].astype(float)"
   ]
  },
  {
   "cell_type": "code",
   "execution_count": 348,
   "metadata": {},
   "outputs": [],
   "source": [
    "#replacing the null values \n",
    "mean = round(df_cancer['Number of sexual partners'].astype(float).mean(),0) #get the mean sexual partner\n",
    "df_cancer['Number of sexual partners'] = df_cancer['Number of sexual partners'].fillna(mean) #replace null with mean\n",
    "\n",
    "mean = round(df_cancer['First sexual intercourse'].astype(float).mean(),0) #get the mean fisrt intercourse age\n",
    "df_cancer['First sexual intercourse'] = df_cancer['First sexual intercourse'].fillna(mean) #replace null with mean\n",
    "\n",
    "mean = round(df_cancer['Num of pregnancies'].astype(float).mean(),0) #get the mean num of pregnancies\n",
    "df_cancer['Num of pregnancies'] = df_cancer['Num of pregnancies'].fillna(mean) #replace null with mean\n",
    "\n",
    "df_cancer['Smokes'] = df_cancer['Smokes'].fillna(0) # replace null with 0\n",
    "df_cancer['Hormonal Contraceptives'] = df_cancer['Hormonal Contraceptives'].fillna(0) #replace with 0\n",
    "df_cancer['IUD'] = df_cancer['IUD'].fillna(0) #replace with 0\n",
    "df_cancer['STDs:HPV'] = df_cancer['STDs:HPV'].fillna(1) #who didn't answer most probably has HPV"
   ]
  },
  {
   "cell_type": "code",
   "execution_count": 349,
   "metadata": {},
   "outputs": [
    {
     "name": "stdout",
     "output_type": "stream",
     "text": [
      "<class 'pandas.core.frame.DataFrame'>\n",
      "RangeIndex: 858 entries, 0 to 857\n",
      "Data columns (total 9 columns):\n",
      "Age                          858 non-null int64\n",
      "Number of sexual partners    858 non-null float64\n",
      "First sexual intercourse     858 non-null float64\n",
      "Num of pregnancies           858 non-null float64\n",
      "Smokes                       858 non-null float64\n",
      "Hormonal Contraceptives      858 non-null float64\n",
      "IUD                          858 non-null float64\n",
      "STDs:HPV                     858 non-null float64\n",
      "Biopsy                       858 non-null int64\n",
      "dtypes: float64(7), int64(2)\n",
      "memory usage: 60.5 KB\n"
     ]
    },
    {
     "data": {
      "text/plain": [
       "Age                          0\n",
       "Number of sexual partners    0\n",
       "First sexual intercourse     0\n",
       "Num of pregnancies           0\n",
       "Smokes                       0\n",
       "Hormonal Contraceptives      0\n",
       "IUD                          0\n",
       "STDs:HPV                     0\n",
       "Biopsy                       0\n",
       "dtype: int64"
      ]
     },
     "execution_count": 349,
     "metadata": {},
     "output_type": "execute_result"
    }
   ],
   "source": [
    "df_cancer.info()\n",
    "df_cancer.isnull().sum() # make sure none of the columns contain null data"
   ]
  },
  {
   "cell_type": "code",
   "execution_count": 350,
   "metadata": {},
   "outputs": [
    {
     "data": {
      "image/png": "[encoded data removed]",
      "text/plain": [
       "<Figure size 432x288 with 1 Axes>"
      ]
     },
     "metadata": {
      "needs_background": "light"
     },
     "output_type": "display_data"
    },
    {
     "data": {
      "text/plain": [
       "<Figure size 576x432 with 0 Axes>"
      ]
     },
     "metadata": {},
     "output_type": "display_data"
    }
   ],
   "source": [
    "# plotting histograms\n",
    "hist_Age = thinkstats2.Hist(df_cancer.Age, label='Age')\n",
    "thinkplot.Hist(hist_Age)\n",
    "thinkplot.Show(xlabel='Age(years)', ylabel='frequency')"
   ]
  },
  {
   "cell_type": "markdown",
   "metadata": {},
   "source": [
    "We can see from the histogram that there are some extreme values i.e. age > 55yrs. These are rare occurances. "
   ]
  },
  {
   "cell_type": "code",
   "execution_count": 351,
   "metadata": {},
   "outputs": [
    {
     "data": {
      "image/png": "[encoded data removed]",
      "text/plain": [
       "<Figure size 432x288 with 1 Axes>"
      ]
     },
     "metadata": {
      "needs_background": "light"
     },
     "output_type": "display_data"
    },
    {
     "data": {
      "text/plain": [
       "<Figure size 576x432 with 0 Axes>"
      ]
     },
     "metadata": {},
     "output_type": "display_data"
    }
   ],
   "source": [
    "hist_sexual_partner = thinkstats2.Hist(df_cancer['Number of sexual partners'], label='Number of Sexual Partner')\n",
    "thinkplot.Hist(hist_sexual_partner)\n",
    "thinkplot.Show(xlabel='Number of sexual partner', ylabel='frequency')"
   ]
  },
  {
   "cell_type": "code",
   "execution_count": 352,
   "metadata": {},
   "outputs": [
    {
     "data": {
      "image/png": "[encoded data removed]",
      "text/plain": [
       "<Figure size 432x288 with 1 Axes>"
      ]
     },
     "metadata": {
      "needs_background": "light"
     },
     "output_type": "display_data"
    },
    {
     "data": {
      "text/plain": [
       "<Figure size 576x432 with 0 Axes>"
      ]
     },
     "metadata": {},
     "output_type": "display_data"
    }
   ],
   "source": [
    "hist_intercourse_age = thinkstats2.Hist(df_cancer['First sexual intercourse'], label='First sexual intercourse')\n",
    "thinkplot.Hist(hist_intercourse_age)\n",
    "thinkplot.Show(xlabel='First sexual intercourse age (years)', ylabel='frequency')"
   ]
  },
  {
   "cell_type": "markdown",
   "metadata": {},
   "source": [
    "We can see from the histogram that there are some extreme values i.e. fisrt intercourse age > 30yrs. These are rare occurances."
   ]
  },
  {
   "cell_type": "code",
   "execution_count": 353,
   "metadata": {},
   "outputs": [
    {
     "data": {
      "image/png": "[encoded data removed]",
      "text/plain": [
       "<Figure size 432x288 with 1 Axes>"
      ]
     },
     "metadata": {
      "needs_background": "light"
     },
     "output_type": "display_data"
    },
    {
     "data": {
      "text/plain": [
       "<Figure size 576x432 with 0 Axes>"
      ]
     },
     "metadata": {},
     "output_type": "display_data"
    }
   ],
   "source": [
    "hist_num_pregnancies = thinkstats2.Hist(df_cancer['Num of pregnancies'], label='Num of pregnancies')\n",
    "thinkplot.Hist(hist_num_pregnancies)\n",
    "thinkplot.Show(xlabel='Num of pregnancies', ylabel='frequency')"
   ]
  },
  {
   "cell_type": "markdown",
   "metadata": {},
   "source": [
    "We can see from the histogram that there are some extreme values i.e. number of pregnancies > 9. These are rare occurances."
   ]
  },
  {
   "cell_type": "code",
   "execution_count": 354,
   "metadata": {},
   "outputs": [
    {
     "data": {
      "image/png": "[encoded data removed]",
      "text/plain": [
       "<Figure size 432x288 with 1 Axes>"
      ]
     },
     "metadata": {
      "needs_background": "light"
     },
     "output_type": "display_data"
    },
    {
     "data": {
      "text/plain": [
       "<Figure size 576x432 with 0 Axes>"
      ]
     },
     "metadata": {},
     "output_type": "display_data"
    }
   ],
   "source": [
    "hist_smokes = thinkstats2.Hist(df_cancer['Smokes'], label='Smokers')\n",
    "thinkplot.Hist(hist_smokes, width=0.1)\n",
    "thinkplot.Show(xlabel='Non Smoker/Smoker', ylabel='frequency')"
   ]
  },
  {
   "cell_type": "code",
   "execution_count": 355,
   "metadata": {},
   "outputs": [
    {
     "data": {
      "image/png": "[encoded data removed]",
      "text/plain": [
       "<Figure size 432x288 with 1 Axes>"
      ]
     },
     "metadata": {
      "needs_background": "light"
     },
     "output_type": "display_data"
    },
    {
     "data": {
      "text/plain": [
       "<Figure size 576x432 with 0 Axes>"
      ]
     },
     "metadata": {},
     "output_type": "display_data"
    }
   ],
   "source": [
    "hist_contra = thinkstats2.Hist(df_cancer['Hormonal Contraceptives'], label='Contraceptive User')\n",
    "thinkplot.Hist(hist_contra,width=0.1)\n",
    "thinkplot.Show(xlabel='Contraceptive non user / user', ylabel='frequency')"
   ]
  },
  {
   "cell_type": "code",
   "execution_count": 356,
   "metadata": {},
   "outputs": [
    {
     "data": {
      "image/png": "[encoded data removed]",
      "text/plain": [
       "<Figure size 432x288 with 1 Axes>"
      ]
     },
     "metadata": {
      "needs_background": "light"
     },
     "output_type": "display_data"
    },
    {
     "data": {
      "text/plain": [
       "<Figure size 576x432 with 0 Axes>"
      ]
     },
     "metadata": {},
     "output_type": "display_data"
    }
   ],
   "source": [
    "hist_IUD = thinkstats2.Hist(df_cancer['IUD'], label='IUD User')\n",
    "thinkplot.Hist(hist_IUD,width=0.1)\n",
    "thinkplot.Show(xlabel='IUD non user/user', ylabel='frequency')"
   ]
  },
  {
   "cell_type": "code",
   "execution_count": 357,
   "metadata": {},
   "outputs": [
    {
     "data": {
      "image/png": "[encoded data removed]",
      "text/plain": [
       "<Figure size 432x288 with 1 Axes>"
      ]
     },
     "metadata": {
      "needs_background": "light"
     },
     "output_type": "display_data"
    },
    {
     "data": {
      "text/plain": [
       "<Figure size 576x432 with 0 Axes>"
      ]
     },
     "metadata": {},
     "output_type": "display_data"
    }
   ],
   "source": [
    "hist_HPV = thinkstats2.Hist(df_cancer['STDs:HPV'], label='Suffering from HPV')\n",
    "thinkplot.Hist(hist_HPV,width=0.1)\n",
    "thinkplot.Show(xlabel='No Suffering/suffering HPV', ylabel='frequency')"
   ]
  },
  {
   "cell_type": "code",
   "execution_count": 358,
   "metadata": {},
   "outputs": [
    {
     "data": {
      "image/png": "[encoded data removed]",
      "text/plain": [
       "<Figure size 432x288 with 1 Axes>"
      ]
     },
     "metadata": {
      "needs_background": "light"
     },
     "output_type": "display_data"
    },
    {
     "data": {
      "text/plain": [
       "<Figure size 576x432 with 0 Axes>"
      ]
     },
     "metadata": {},
     "output_type": "display_data"
    }
   ],
   "source": [
    "hist_biopsy = thinkstats2.Hist(df_cancer['Biopsy'], label='Cervical Cancer Biopsy')\n",
    "thinkplot.Hist(hist_biopsy,width=0.1)\n",
    "thinkplot.Show(xlabel='Biopsy no/yes', ylabel='frequency')"
   ]
  },
  {
   "cell_type": "code",
   "execution_count": 359,
   "metadata": {},
   "outputs": [
    {
     "name": "stdout",
     "output_type": "stream",
     "text": [
      "Age mean is: 26.82051282051282\n",
      "Age variance is: 72.21512132363935\n",
      "Age standard deviation is: 8.497948065482593\n",
      "\n",
      "Number of sexual partner mean is: 2.541958041958042\n",
      "Number of sexual partner variance is: 2.703605029742721\n",
      "Number of sexual partner standard deviation is: 1.6442642822073104\n",
      "\n",
      "First sexual intercourse mean is: 16.995337995337994\n",
      "First sexual intercourse variance is: 7.794610679091469\n",
      "First sexual intercourse standard deviation is: 2.791882998818444\n",
      "\n",
      "Num of pregnancies mean is: 2.257575757575758\n",
      "Num of pregnancies variance is: 1.9627488419787038\n",
      "Num of pregnancies standard deviation is: 1.4009813853077078\n"
     ]
    }
   ],
   "source": [
    "#Mean, variance & standard deviation\n",
    "mean_age = df_cancer.Age.mean()\n",
    "var_age = df_cancer.Age.var()\n",
    "std_age = df_cancer.Age.std()\n",
    "print(\"Age mean is:\", mean_age)\n",
    "print(\"Age variance is:\", var_age)\n",
    "print(\"Age standard deviation is:\", std_age)\n",
    "\n",
    "mean_sex_partner = df_cancer[\"Number of sexual partners\"].mean()\n",
    "var_sex_partner = df_cancer[\"Number of sexual partners\"].var()\n",
    "std_sex_partner = df_cancer[\"Number of sexual partners\"].std()\n",
    "print(\"\\nNumber of sexual partner mean is:\", mean_sex_partner)\n",
    "print(\"Number of sexual partner variance is:\", var_sex_partner)\n",
    "print(\"Number of sexual partner standard deviation is:\", std_sex_partner)\n",
    "\n",
    "mean_first_intrcrse = df_cancer[\"First sexual intercourse\"].mean()\n",
    "var_first_intrcrse = df_cancer[\"First sexual intercourse\"].var()\n",
    "std_first_intrcrse = df_cancer[\"First sexual intercourse\"].std()\n",
    "print(\"\\nFirst sexual intercourse mean is:\", mean_first_intrcrse)\n",
    "print(\"First sexual intercourse variance is:\", var_first_intrcrse)\n",
    "print(\"First sexual intercourse standard deviation is:\", std_first_intrcrse)\n",
    "\n",
    "mean_num_pregnancy = df_cancer[\"Num of pregnancies\"].mean()\n",
    "var_num_pregnancy = df_cancer[\"Num of pregnancies\"].var()\n",
    "std_num_pregnancy = df_cancer[\"Num of pregnancies\"].std()\n",
    "print(\"\\nNum of pregnancies mean is:\", mean_num_pregnancy)\n",
    "print(\"Num of pregnancies variance is:\", var_num_pregnancy)\n",
    "print(\"Num of pregnancies standard deviation is:\", std_num_pregnancy)"
   ]
  },
  {
   "cell_type": "code",
   "execution_count": 360,
   "metadata": {},
   "outputs": [
    {
     "data": {
      "image/png": "[encoded data removed]",
      "text/plain": [
       "<Figure size 864x432 with 2 Axes>"
      ]
     },
     "metadata": {
      "needs_background": "light"
     },
     "output_type": "display_data"
    }
   ],
   "source": [
    "df_age_below20 = df_cancer[df_cancer.Age <= 20]  # select dataset for Age <=20\n",
    "df_age_above20 = df_cancer[df_cancer.Age > 20]  # select dataset for Age > 20\n",
    "\n",
    "below20_pmf = thinkstats2.Pmf(df_age_below20.Biopsy, label='Age below 20 yrs') #get pmf below 20yrs age\n",
    "above20_pmf = thinkstats2.Pmf(df_age_above20.Biopsy, label='Age above 20 yrs') #get pmf abov 20yrs age\n",
    "\n",
    "width=0.5 # width of the bar\n",
    "axis = [-1,2, 0, 1] # x-axis and y-axis scale\n",
    "thinkplot.PrePlot(2, cols=2) # pre select colour for 2 PMFs\n",
    "thinkplot.Hist(below20_pmf, align='right', width=width) #plot\n",
    "thinkplot.Hist(above20_pmf, align='left', width=width) #plot\n",
    "thinkplot.Config(xlabel='Biopsy', ylabel='PMF', axis=axis) # set x and y-axis labels\n",
    "\n",
    "thinkplot.PrePlot(2)\n",
    "thinkplot.SubPlot(2)\n",
    "thinkplot.Pmfs([below20_pmf, above20_pmf]) # plot\n",
    "thinkplot.Config(xlabel='Biopsy', axis=axis)\n"
   ]
  },
  {
   "cell_type": "markdown",
   "metadata": {},
   "source": [
    "We can see from above PMF plot that women older than 20 years have more chances of having Cervical Cancer than women below 20yrs of age."
   ]
  },
  {
   "cell_type": "code",
   "execution_count": 361,
   "metadata": {},
   "outputs": [
    {
     "data": {
      "image/png": "[encoded data removed]",
      "text/plain": [
       "<Figure size 864x432 with 2 Axes>"
      ]
     },
     "metadata": {
      "needs_background": "light"
     },
     "output_type": "display_data"
    }
   ],
   "source": [
    "df_first_below20 = df_cancer[df_cancer[\"First sexual intercourse\"] <= 20] #select dataset for intercpurse <=20\n",
    "df_first_above20 = df_cancer[df_cancer[\"First sexual intercourse\"] > 20] #select dataset for intercpurse >20\n",
    "\n",
    "first_below20_pmf = thinkstats2.Pmf(df_first_below20.Biopsy, label='First Intercourse Age <= 20yrs') #pmf for first intercourse before 20\n",
    "first_above20_pmf = thinkstats2.Pmf(df_first_above20.Biopsy, label='First Intercourse Age >20') #pmf for after intercourse after 20\n",
    "\n",
    "width=0.5 #width of bar\n",
    "axis = [-1,2, 0, 1] # scale\n",
    "thinkplot.PrePlot(2, cols=2) # pre select colour for 2 PMFs\n",
    "thinkplot.Hist(first_below20_pmf, align='right', width=width) # plot\n",
    "thinkplot.Hist(first_above20_pmf, align='left', width=width) # plot\n",
    "thinkplot.Config(xlabel='Biopsy', ylabel='PMF', axis=axis) # label x and y-axis\n",
    "\n",
    "thinkplot.PrePlot(2)\n",
    "thinkplot.SubPlot(2)\n",
    "thinkplot.Pmfs([first_below20_pmf, first_above20_pmf]) #plot\n",
    "thinkplot.Config(xlabel='Biopsy', axis=axis) # lable x-axis"
   ]
  },
  {
   "cell_type": "markdown",
   "metadata": {},
   "source": [
    "We can see from above PMF plot that women who had intercourse before 20yrs,have more chances of having Cervical Cancer than women who had their first intercourse after 20yrs of age."
   ]
  },
  {
   "cell_type": "code",
   "execution_count": 362,
   "metadata": {},
   "outputs": [
    {
     "data": {
      "image/png": "[encoded data removed]",
      "text/plain": [
       "<Figure size 432x288 with 1 Axes>"
      ]
     },
     "metadata": {
      "needs_background": "light"
     },
     "output_type": "display_data"
    }
   ],
   "source": [
    "cdf = thinkstats2.Cdf(df_cancer[\"First sexual intercourse\"], label='fisrt sexual Intercourse') # get CDF\n",
    "thinkplot.Cdf(cdf)\n",
    "thinkplot.Config(xlabel='First Sexual Intercourse Age (yrs)', ylabel='CDF', loc='upper left') #plot"
   ]
  },
  {
   "cell_type": "markdown",
   "metadata": {},
   "source": [
    "From the above CDF plot of First Sexual Intercourse age, we can see only 10% of the population had their first intercourse below 15 years and only 10% poulation had their first intercourse above 20 yeras. Most of the population had their first intercourse between 15years to 18years."
   ]
  },
  {
   "cell_type": "code",
   "execution_count": 395,
   "metadata": {},
   "outputs": [
    {
     "data": {
      "image/png": "[encoded data removed]",
      "text/plain": [
       "<Figure size 432x288 with 1 Axes>"
      ]
     },
     "metadata": {
      "needs_background": "light"
     },
     "output_type": "display_data"
    }
   ],
   "source": [
    "cdf = thinkstats2.Cdf(df_cancer[\"First sexual intercourse\"], label='actual')\n",
    "thinkplot.Cdf(cdf, complement=True) # complementary CDF\n",
    "thinkplot.Config(xlabel='First sexual intercourse age (years)', ylabel='CCDF', yscale = 'log')"
   ]
  },
  {
   "cell_type": "markdown",
   "metadata": {},
   "source": [
    "From the above plot of complementary CDF on a log-y scale we can see it is not a perfect stratight line. So we can say the exponential distribution model is not a perfect fit for fisr sexual intercourse age."
   ]
  },
  {
   "cell_type": "code",
   "execution_count": 399,
   "metadata": {},
   "outputs": [],
   "source": [
    "def SampleRows(df, nrows, replace=False):\n",
    "    ''' pass a dataframe and number of records you want to select.\n",
    "        it returns a random selection of records from the passed\n",
    "        dataframe.\n",
    "    '''\n",
    "    indices = np.random.choice(df.index, nrows, replace=replace)\n",
    "    sample = df.loc[indices]\n",
    "    return sample"
   ]
  },
  {
   "cell_type": "code",
   "execution_count": 520,
   "metadata": {},
   "outputs": [],
   "source": [
    "sample1 = SampleRows(df_cancer, 500) # select random 500 rows"
   ]
  },
  {
   "cell_type": "code",
   "execution_count": 524,
   "metadata": {},
   "outputs": [
    {
     "data": {
      "text/plain": [
       "<matplotlib.axes._subplots.AxesSubplot at 0x1a25170890>"
      ]
     },
     "execution_count": 524,
     "metadata": {},
     "output_type": "execute_result"
    },
    {
     "data": {
      "image/png": "[encoded data removed]",
      "text/plain": [
       "<Figure size 432x288 with 1 Axes>"
      ]
     },
     "metadata": {
      "needs_background": "light"
     },
     "output_type": "display_data"
    }
   ],
   "source": [
    "sb.scatterplot(x='First sexual intercourse',hue='Biopsy',y='Number of sexual partners',data=sample1) # seaborn plot"
   ]
  },
  {
   "cell_type": "markdown",
   "metadata": {},
   "source": [
    "From the above scatter plot we can see woman having more than one sex partner and had their first intercourse between 17-19 years of age, are at more risk of having cervical cancer."
   ]
  },
  {
   "cell_type": "code",
   "execution_count": 514,
   "metadata": {},
   "outputs": [],
   "source": [
    "def Cov(xs, ys, meanx=None, meany=None):\n",
    "    xs = np.asarray(xs)\n",
    "    ys = np.asarray(ys)\n",
    "\n",
    "    if meanx is None:\n",
    "        meanx = np.mean(xs)\n",
    "    if meany is None:\n",
    "        meany = np.mean(ys)\n",
    "\n",
    "    cov = np.dot(xs-meanx, ys-meany) / len(xs)\n",
    "    return cov\n",
    "\n",
    "def Corr(xs, ys):\n",
    "    xs = np.asarray(xs)\n",
    "    ys = np.asarray(ys)\n",
    "\n",
    "    meanx, varx = thinkstats2.MeanVar(xs)\n",
    "    meany, vary = thinkstats2.MeanVar(ys)\n",
    "\n",
    "    corr = Cov(xs, ys, meanx, meany) / np.sqrt(varx * vary)\n",
    "    return corr"
   ]
  },
  {
   "cell_type": "code",
   "execution_count": 525,
   "metadata": {},
   "outputs": [
    {
     "data": {
      "text/plain": [
       "-0.012460000000000004"
      ]
     },
     "execution_count": 525,
     "metadata": {},
     "output_type": "execute_result"
    }
   ],
   "source": [
    "Cov(sample1.Biopsy, sample1[\"First sexual intercourse\"]) # get covariance"
   ]
  },
  {
   "cell_type": "code",
   "execution_count": 526,
   "metadata": {},
   "outputs": [
    {
     "data": {
      "text/plain": [
       "-0.017792160620194463"
      ]
     },
     "execution_count": 526,
     "metadata": {},
     "output_type": "execute_result"
    }
   ],
   "source": [
    "Corr(sample1.Biopsy, sample1[\"First sexual intercourse\"]) # get correlation"
   ]
  },
  {
   "cell_type": "markdown",
   "metadata": {},
   "source": [
    "From the corelation and covariance value we can see there is a very weak negative relation between Biopsy and first sexual intercourse. i.e. who had their first inter course at later age, have less chance of getting Biposy (cervical cancer)"
   ]
  },
  {
   "cell_type": "code",
   "execution_count": 529,
   "metadata": {},
   "outputs": [
    {
     "data": {
      "text/plain": [
       "<matplotlib.axes._subplots.AxesSubplot at 0x1a254a9c10>"
      ]
     },
     "execution_count": 529,
     "metadata": {},
     "output_type": "execute_result"
    },
    {
     "data": {
      "image/png": "[encoded data removed]",
      "text/plain": [
       "<Figure size 432x288 with 1 Axes>"
      ]
     },
     "metadata": {
      "needs_background": "light"
     },
     "output_type": "display_data"
    }
   ],
   "source": [
    "sb.scatterplot(x='Age',hue='Biopsy',y='Num of pregnancies',data=sample1) # seaborn plot"
   ]
  },
  {
   "cell_type": "markdown",
   "metadata": {},
   "source": [
    "From the above scatter plot we can see woman having two or more pregnancies and aged between 32-37 years, are at more risk of having cervical cancer."
   ]
  },
  {
   "cell_type": "code",
   "execution_count": 530,
   "metadata": {},
   "outputs": [
    {
     "data": {
      "text/plain": [
       "0.0451"
      ]
     },
     "execution_count": 530,
     "metadata": {},
     "output_type": "execute_result"
    }
   ],
   "source": [
    "Cov(sample1.Biopsy, sample1.Age) # get covariance"
   ]
  },
  {
   "cell_type": "code",
   "execution_count": 538,
   "metadata": {},
   "outputs": [
    {
     "data": {
      "text/plain": [
       "0.021898036448931412"
      ]
     },
     "execution_count": 538,
     "metadata": {},
     "output_type": "execute_result"
    }
   ],
   "source": [
    "Corr(sample1.Biopsy, sample1.Age) # get correlation"
   ]
  },
  {
   "cell_type": "markdown",
   "metadata": {},
   "source": [
    "From the corelation and covariance value we can see there is a very weak positive relation between Biopsy and Age"
   ]
  },
  {
   "cell_type": "code",
   "execution_count": 539,
   "metadata": {},
   "outputs": [],
   "source": [
    "class CorrelationPermute(thinkstats2.HypothesisTest):\n",
    "\n",
    "    def TestStatistic(self, data):\n",
    "        xs, ys = data\n",
    "        test_stat = abs(thinkstats2.Corr(xs, ys))\n",
    "        return test_stat\n",
    "\n",
    "    def RunModel(self):\n",
    "        xs, ys = self.data\n",
    "        xs = np.random.permutation(xs)\n",
    "        return xs, ys"
   ]
  },
  {
   "cell_type": "code",
   "execution_count": 546,
   "metadata": {},
   "outputs": [
    {
     "name": "stdout",
     "output_type": "stream",
     "text": [
      "pvalue= 0.951\n",
      "pvalue= 0.004\n",
      "pvalue= 0.893\n",
      "pvalue= 0.683\n",
      "pvalue= 0.008\n",
      "pvalue= 0.368\n",
      "pvalue= 0.916\n",
      "pvalue= 0.192\n",
      "pvalue= 0.929\n",
      "pvalue= 0.434\n"
     ]
    }
   ],
   "source": [
    "for i in range (10):  # run a loop 20 times\n",
    "    sample2 = SampleRows(df_cancer, 500) # select random 500 rows  \n",
    "    data = sample2.Biopsy, sample.Age\n",
    "    ht = CorrelationPermute(data)\n",
    "    pvalue = ht.PValue()\n",
    "    print(\"pvalue=\", pvalue) # print the p-value"
   ]
  },
  {
   "cell_type": "markdown",
   "metadata": {},
   "source": [
    "From the above correlation test, we got p-value < 0.05 only once. So we can say that Age has any impact on Biopsy is statistically insignificant."
   ]
  },
  {
   "cell_type": "code",
   "execution_count": 571,
   "metadata": {},
   "outputs": [
    {
     "data": {
      "text/html": [
       "<table class=\"simpletable\">\n",
       "<caption>OLS Regression Results</caption>\n",
       "<tr>\n",
       "  <th>Dep. Variable:</th>         <td>Biopsy</td>      <th>  R-squared:         </th> <td>   0.010</td>\n",
       "</tr>\n",
       "<tr>\n",
       "  <th>Model:</th>                   <td>OLS</td>       <th>  Adj. R-squared:    </th> <td>   0.003</td>\n",
       "</tr>\n",
       "<tr>\n",
       "  <th>Method:</th>             <td>Least Squares</td>  <th>  F-statistic:       </th> <td>   1.421</td>\n",
       "</tr>\n",
       "<tr>\n",
       "  <th>Date:</th>             <td>Sat, 29 Feb 2020</td> <th>  Prob (F-statistic):</th>  <td> 0.204</td> \n",
       "</tr>\n",
       "<tr>\n",
       "  <th>Time:</th>                 <td>23:10:55</td>     <th>  Log-Likelihood:    </th> <td> -6.1730</td>\n",
       "</tr>\n",
       "<tr>\n",
       "  <th>No. Observations:</th>      <td>   858</td>      <th>  AIC:               </th> <td>   26.35</td>\n",
       "</tr>\n",
       "<tr>\n",
       "  <th>Df Residuals:</th>          <td>   851</td>      <th>  BIC:               </th> <td>   59.63</td>\n",
       "</tr>\n",
       "<tr>\n",
       "  <th>Df Model:</th>              <td>     6</td>      <th>                     </th>     <td> </td>   \n",
       "</tr>\n",
       "<tr>\n",
       "  <th>Covariance Type:</th>      <td>nonrobust</td>    <th>                     </th>     <td> </td>   \n",
       "</tr>\n",
       "</table>\n",
       "<table class=\"simpletable\">\n",
       "<tr>\n",
       "              <td></td>                 <th>coef</th>     <th>std err</th>      <th>t</th>      <th>P>|t|</th>  <th>[0.025</th>    <th>0.975]</th>  \n",
       "</tr>\n",
       "<tr>\n",
       "  <th>Intercept</th>                 <td>    0.0537</td> <td>    0.057</td> <td>    0.948</td> <td> 0.343</td> <td>   -0.058</td> <td>    0.165</td>\n",
       "</tr>\n",
       "<tr>\n",
       "  <th>Age</th>                       <td>    0.0012</td> <td>    0.001</td> <td>    1.017</td> <td> 0.309</td> <td>   -0.001</td> <td>    0.003</td>\n",
       "</tr>\n",
       "<tr>\n",
       "  <th>Smokes</th>                    <td>    0.0224</td> <td>    0.025</td> <td>    0.904</td> <td> 0.366</td> <td>   -0.026</td> <td>    0.071</td>\n",
       "</tr>\n",
       "<tr>\n",
       "  <th>IUD</th>                       <td>    0.0353</td> <td>    0.030</td> <td>    1.177</td> <td> 0.239</td> <td>   -0.024</td> <td>    0.094</td>\n",
       "</tr>\n",
       "<tr>\n",
       "  <th>Number_of_sexual_partners</th> <td>   -0.0023</td> <td>    0.005</td> <td>   -0.430</td> <td> 0.667</td> <td>   -0.013</td> <td>    0.008</td>\n",
       "</tr>\n",
       "<tr>\n",
       "  <th>First_Intercourse</th>         <td>   -0.0009</td> <td>    0.003</td> <td>   -0.276</td> <td> 0.783</td> <td>   -0.007</td> <td>    0.006</td>\n",
       "</tr>\n",
       "<tr>\n",
       "  <th>HPV</th>                       <td>   -0.0453</td> <td>    0.026</td> <td>   -1.769</td> <td> 0.077</td> <td>   -0.096</td> <td>    0.005</td>\n",
       "</tr>\n",
       "</table>\n",
       "<table class=\"simpletable\">\n",
       "<tr>\n",
       "  <th>Omnibus:</th>       <td>626.287</td> <th>  Durbin-Watson:     </th> <td>   1.954</td>\n",
       "</tr>\n",
       "<tr>\n",
       "  <th>Prob(Omnibus):</th> <td> 0.000</td>  <th>  Jarque-Bera (JB):  </th> <td>5667.553</td>\n",
       "</tr>\n",
       "<tr>\n",
       "  <th>Skew:</th>          <td> 3.506</td>  <th>  Prob(JB):          </th> <td>    0.00</td>\n",
       "</tr>\n",
       "<tr>\n",
       "  <th>Kurtosis:</th>      <td>13.457</td>  <th>  Cond. No.          </th> <td>    224.</td>\n",
       "</tr>\n",
       "</table><br/><br/>Warnings:<br/>[1] Standard Errors assume that the covariance matrix of the errors is correctly specified."
      ],
      "text/plain": [
       "<class 'statsmodels.iolib.summary.Summary'>\n",
       "\"\"\"\n",
       "                            OLS Regression Results                            \n",
       "==============================================================================\n",
       "Dep. Variable:                 Biopsy   R-squared:                       0.010\n",
       "Model:                            OLS   Adj. R-squared:                  0.003\n",
       "Method:                 Least Squares   F-statistic:                     1.421\n",
       "Date:                Sat, 29 Feb 2020   Prob (F-statistic):              0.204\n",
       "Time:                        23:10:55   Log-Likelihood:                -6.1730\n",
       "No. Observations:                 858   AIC:                             26.35\n",
       "Df Residuals:                     851   BIC:                             59.63\n",
       "Df Model:                           6                                         \n",
       "Covariance Type:            nonrobust                                         \n",
       "=============================================================================================\n",
       "                                coef    std err          t      P>|t|      [0.025      0.975]\n",
       "---------------------------------------------------------------------------------------------\n",
       "Intercept                     0.0537      0.057      0.948      0.343      -0.058       0.165\n",
       "Age                           0.0012      0.001      1.017      0.309      -0.001       0.003\n",
       "Smokes                        0.0224      0.025      0.904      0.366      -0.026       0.071\n",
       "IUD                           0.0353      0.030      1.177      0.239      -0.024       0.094\n",
       "Number_of_sexual_partners    -0.0023      0.005     -0.430      0.667      -0.013       0.008\n",
       "First_Intercourse            -0.0009      0.003     -0.276      0.783      -0.007       0.006\n",
       "HPV                          -0.0453      0.026     -1.769      0.077      -0.096       0.005\n",
       "==============================================================================\n",
       "Omnibus:                      626.287   Durbin-Watson:                   1.954\n",
       "Prob(Omnibus):                  0.000   Jarque-Bera (JB):             5667.553\n",
       "Skew:                           3.506   Prob(JB):                         0.00\n",
       "Kurtosis:                      13.457   Cond. No.                         224.\n",
       "==============================================================================\n",
       "\n",
       "Warnings:\n",
       "[1] Standard Errors assume that the covariance matrix of the errors is correctly specified.\n",
       "\"\"\""
      ]
     },
     "execution_count": 571,
     "metadata": {},
     "output_type": "execute_result"
    }
   ],
   "source": [
    "import statsmodels.formula.api as smf\n",
    "df_cancer[\"Number_of_sexual_partners\"] = df_cancer[\"Number of sexual partners\"]\n",
    "df_cancer[\"First_Intercourse\"] = df_cancer[\"First sexual intercourse\"]\n",
    "df_cancer[\"HPV\"] = df_cancer[\"STDs:HPV\"]\n",
    "\n",
    "formula = 'Biopsy ~ Age+Smokes+IUD+Number_of_sexual_partners+First_Intercourse+HPV'\n",
    "model = smf.ols(formula, data=df_cancer)\n",
    "results = model.fit()\n",
    "results.summary()"
   ]
  },
  {
   "cell_type": "markdown",
   "metadata": {},
   "source": [
    "R^2 is very low. So this multiple regression model is not a good fit."
   ]
  }
 ],
 "metadata": {
  "kernelspec": {
   "display_name": "Python 3",
   "language": "python",
   "name": "python3"
  },
  "language_info": {
   "codemirror_mode": {
    "name": "ipython",
    "version": 3
   },
   "file_extension": ".py",
   "mimetype": "text/x-python",
   "name": "python",
   "nbconvert_exporter": "python",
   "pygments_lexer": "ipython3",
   "version": "3.7.4"
  }
 },
 "nbformat": 4,
 "nbformat_minor": 2
}
