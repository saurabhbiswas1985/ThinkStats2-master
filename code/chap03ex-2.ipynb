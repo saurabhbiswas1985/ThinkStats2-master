{
 "cells": [
  {
   "cell_type": "code",
   "execution_count": 16,
   "metadata": {},
   "outputs": [
    {
     "name": "stdout",
     "output_type": "stream",
     "text": [
      "mean/var preg length 38.56055968517709 7.301863788195439\n",
      "All tests passed.\n"
     ]
    }
   ],
   "source": [
    "\"\"\"This file contains code to calculate mean and variance\n",
    "from PMF\n",
    "Author: Saurabh Biswas\n",
    "\"\"\"\n",
    "\n",
    "from __future__ import print_function, division\n",
    "\n",
    "import sys\n",
    "import numpy as np\n",
    "import thinkstats2\n",
    "import nsfg\n",
    "\n",
    "import first\n",
    "import thinkplot\n",
    "\n",
    "\n",
    "\n",
    "def PmfMean(pmf):\n",
    "    \"\"\"receives pmf and calculates mean\n",
    "    using sum of px fomula.\n",
    "\n",
    "    returns: mean\n",
    "    \"\"\"\n",
    "    mean = 0.0 # initialize the result\n",
    "    \n",
    "    # run a loop and sum up each items value multiplied by it's probablity\n",
    "    for x, p in pmf.Items():\n",
    "        mean += p * x\n",
    "\n",
    "    return mean\n",
    "\n",
    "\n",
    "def PmfVar(pmf, mean):\n",
    "    \"\"\"receives pmf and calculates variance\n",
    "    using sum of p * (x-mean(x)) formula\n",
    "\n",
    "    returns: variance\n",
    "    \"\"\"\n",
    "    var = 0.0 # initialize the result\n",
    "    \n",
    "    if mean is None:\n",
    "        mean = pmf.Mean()\n",
    "    \n",
    "    # run a loop to access each items of pmf\n",
    "    for x, p in pmf.Items():\n",
    "        var += p * ((x - mean) **2)\n",
    "\n",
    "    return var\n",
    "\n",
    "\n",
    "def main():\n",
    "    \"\"\"Tests the functions in this module.\n",
    "    \"\"\"\n",
    "    # read NFSG Pregnancy file\n",
    "    preg = nsfg.ReadFemPreg()\n",
    "    live = preg[preg.outcome == 1] # select only live birth data\n",
    "    \n",
    "    # Get the pmf of live pregnancy length in weeks\n",
    "    pmf_live_prglngth = thinkstats2.Pmf(live.prglngth)\n",
    "    \n",
    "    # Call mean and var functions\n",
    "    mean = PmfMean(pmf_live_prglngth)\n",
    "    var = PmfVar(pmf_live_prglngth, mean)\n",
    "    \n",
    "    # Dsiplay calculated mean and var\n",
    "    print('mean/var preg length', mean, var)\n",
    "    \n",
    "   # Compare our calculated mean & var with pmf inbuit functions\n",
    "    assert(mean == pmf_live_prglngth.Mean())\n",
    "    assert(var == pmf_live_prglngth.Var())\n",
    "\n",
    "\n",
    "    \n",
    "    print('All tests passed.')\n",
    "\n",
    "\n",
    "if __name__ == '__main__':\n",
    "    main()\n"
   ]
  },
  {
   "cell_type": "code",
   "execution_count": null,
   "metadata": {},
   "outputs": [],
   "source": []
  },
  {
   "cell_type": "code",
   "execution_count": null,
   "metadata": {},
   "outputs": [],
   "source": []
  },
  {
   "cell_type": "code",
   "execution_count": null,
   "metadata": {},
   "outputs": [],
   "source": []
  },
  {
   "cell_type": "code",
   "execution_count": null,
   "metadata": {},
   "outputs": [],
   "source": []
  },
  {
   "cell_type": "code",
   "execution_count": null,
   "metadata": {},
   "outputs": [],
   "source": []
  }
 ],
 "metadata": {
  "kernelspec": {
   "display_name": "Python 3",
   "language": "python",
   "name": "python3"
  },
  "language_info": {
   "codemirror_mode": {
    "name": "ipython",
    "version": 3
   },
   "file_extension": ".py",
   "mimetype": "text/x-python",
   "name": "python",
   "nbconvert_exporter": "python",
   "pygments_lexer": "ipython3",
   "version": "3.7.4"
  }
 },
 "nbformat": 4,
 "nbformat_minor": 2
}
